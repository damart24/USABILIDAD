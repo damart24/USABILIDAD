{
 "cells": [
  {
   "cell_type": "code",
   "execution_count": 1,
   "id": "43d2b498",
   "metadata": {
    "scrolled": false
   },
   "outputs": [],
   "source": [
    "import numpy as np\n",
    "import matplotlib.pyplot as plt\n",
    "\n",
    "import pandas as pd\n",
    "\n",
    "EventTypes = ['noType', 'sessionStart', 'sessionEnd', 'gameStart', 'gameEnd', 'roundStart', 'cardStateChange']\n",
    "CardStates = ['left', 'right', 'center', 'dropped']\n",
    "\n",
    "data = pd.read_json('../Data/ArchivoGuardado', lines=True)"
   ]
  },
  {
   "cell_type": "code",
   "execution_count": 2,
   "id": "e9ee2da5",
   "metadata": {},
   "outputs": [
    {
     "name": "stdout",
     "output_type": "stream",
     "text": [
      "MEDIA DE TIEMPO ENTRE RONDAS: \t 0 days 00:00:05.959464285\n"
     ]
    }
   ],
   "source": [
    "#METRICA: TIEMPO MEDIO EN CADA PREGUNTA\n",
    "\n",
    "rounds = data[(data['EventType'] == 5) | (data['EventType'] == 4)]\n",
    "\n",
    "rounds = rounds.reset_index(drop=True)\n",
    "\n",
    "rounds['TimeDiff'] = rounds['TimeStamp'].diff()\n",
    "indices = rounds[(rounds['EventType'] == 4)]['TimeDiff'].index\n",
    "\n",
    "rounds = rounds.drop((indices + 1)[:-1])\n",
    "\n",
    "media = rounds[(rounds['EventType'] == 5)]['TimeDiff'].mean()\n",
    "\n",
    "print('MEDIA DE TIEMPO ENTRE RONDAS: \\t', media)"
   ]
  },
  {
   "cell_type": "code",
   "execution_count": 11,
   "id": "e151692a",
   "metadata": {},
   "outputs": [
    {
     "name": "stdout",
     "output_type": "stream",
     "text": [
      "     EventType               TimeStamp  CardState  Win               TimeDiff\n",
      "2            6 2024-04-23 14:24:59.759        2.0  NaN 0 days 00:00:01.226000\n",
      "4            6 2024-04-23 14:25:07.582        2.0  NaN 0 days 00:00:07.735000\n",
      "6            6 2024-04-23 14:25:11.582        2.0  NaN 0 days 00:00:03.688000\n",
      "8            6 2024-04-23 14:25:17.850        2.0  NaN 0 days 00:00:05.269000\n",
      "10           6 2024-04-23 14:25:20.300        2.0  NaN 0 days 00:00:01.717000\n",
      "12           6 2024-04-23 14:25:21.499        2.0  NaN 0 days 00:00:00.567000\n",
      "14           6 2024-04-23 14:25:23.432        2.0  NaN 0 days 00:00:01.792000\n",
      "16           6 2024-04-23 14:25:28.799        2.0  NaN 0 days 00:00:05.135000\n",
      "18           6 2024-04-23 14:25:30.230        2.0  NaN 0 days 00:00:01.234000\n",
      "20           6 2024-04-23 14:25:33.400        2.0  NaN 0 days 00:00:02.970000\n",
      "22           6 2024-04-23 14:25:37.497        2.0  NaN 0 days 00:00:04.035000\n",
      "24           6 2024-04-23 14:25:38.407        2.0  NaN 0 days 00:00:00.611000\n",
      "26           6 2024-04-23 14:25:40.931        2.0  NaN 0 days 00:00:02.334000\n",
      "28           6 2024-04-23 14:26:03.500        2.0  NaN 0 days 00:00:22.433000\n",
      "30           6 2024-04-23 14:26:05.535        2.0  NaN 0 days 00:00:01.368000\n",
      "32           6 2024-04-23 14:26:07.280        2.0  NaN 0 days 00:00:01.606000\n",
      "34           6 2024-04-23 14:26:11.868        2.0  NaN 0 days 00:00:03.900000\n",
      "36           6 2024-04-23 14:26:12.633        2.0  NaN 0 days 00:00:00.600000\n",
      "38           6 2024-04-23 14:26:16.502        2.0  NaN 0 days 00:00:03.801000\n",
      "40           6 2024-04-23 14:26:18.933        2.0  NaN 0 days 00:00:02.362000\n",
      "42           6 2024-04-23 14:26:19.709        2.0  NaN 0 days 00:00:00.444000\n",
      "44           6 2024-04-23 14:26:25.041        2.0  NaN 0 days 00:00:05.140000\n",
      "46           6 2024-04-23 14:26:25.702        2.0  NaN 0 days 00:00:00.534000\n",
      "48           6 2024-04-23 14:26:34.033        2.0  NaN 0 days 00:00:08.231000\n",
      "50           6 2024-04-23 14:26:38.534        2.0  NaN 0 days 00:00:04.199000\n",
      "52           6 2024-04-23 14:26:39.599        2.0  NaN 0 days 00:00:00.732000\n",
      "54           6 2024-04-23 14:26:40.768        2.0  NaN 0 days 00:00:01.058000\n",
      "56           6 2024-04-23 14:26:43.970        2.0  NaN 0 days 00:00:03.033000\n",
      "58           6 2024-04-23 14:26:48.133        2.0  NaN 0 days 00:00:03.857000\n",
      "60           6 2024-04-23 14:26:50.933        2.0  NaN 0 days 00:00:02.663000\n",
      "62           6 2024-04-23 14:26:52.001        2.0  NaN 0 days 00:00:00.964000\n",
      "64           6 2024-04-23 14:26:54.477        2.0  NaN 0 days 00:00:02.444000\n",
      "66           6 2024-04-23 14:26:56.233        2.0  NaN 0 days 00:00:01.565000\n",
      "68           6 2024-04-23 14:26:58.099        2.0  NaN 0 days 00:00:01.798000\n",
      "70           6 2024-04-23 14:26:58.569        2.0  NaN 0 days 00:00:00.355000\n",
      "72           6 2024-04-23 14:27:00.069        2.0  NaN 0 days 00:00:01.393000\n",
      "74           6 2024-04-23 14:27:01.105        2.0  NaN 0 days 00:00:00.872000\n",
      "76           6 2024-04-23 14:27:08.365        2.0  NaN 0 days 00:00:07.196000\n",
      "78           6 2024-04-23 14:27:11.144        2.0  NaN 0 days 00:00:02.545000\n",
      "80           6 2024-04-23 14:27:12.344        2.0  NaN 0 days 00:00:01.043000\n",
      "82           6 2024-04-23 14:27:13.468        2.0  NaN 0 days 00:00:01.068000\n",
      "84           6 2024-04-23 14:27:16.445        2.0  NaN 0 days 00:00:02.813000\n",
      "86           6 2024-04-23 14:27:19.568        2.0  NaN 0 days 00:00:02.991000\n",
      "88           6 2024-04-23 14:27:20.367        2.0  NaN 0 days 00:00:00.629000\n",
      "90           6 2024-04-23 14:27:23.931        2.0  NaN 0 days 00:00:03.256000\n",
      "92           6 2024-04-23 14:27:25.567        2.0  NaN 0 days 00:00:01.401000\n",
      "94           6 2024-04-23 14:27:26.601        2.0  NaN 0 days 00:00:00.866000\n",
      "96           6 2024-04-23 14:27:27.767        2.0  NaN 0 days 00:00:01.095000\n",
      "98           6 2024-04-23 14:27:29.767        2.0  NaN 0 days 00:00:01.962000\n",
      "100          6 2024-04-23 14:27:32.837        2.0  NaN 0 days 00:00:02.904000\n",
      "102          6 2024-04-23 14:27:37.672        2.0  NaN 0 days 00:00:04.636000\n",
      "104          6 2024-04-23 14:27:41.502        2.0  NaN 0 days 00:00:03.634000\n",
      "106          6 2024-04-23 14:27:42.901        2.0  NaN 0 days 00:00:01.234000\n",
      "108          6 2024-04-23 14:27:46.876        2.0  NaN 0 days 00:00:03.776000\n",
      "110          6 2024-04-23 14:27:50.033        2.0  NaN 0 days 00:00:01.767000\n",
      "113          6 2024-04-23 14:27:54.267        2.0  NaN 0 days 00:00:02.366000\n",
      "115          6 2024-04-23 14:27:55.468        2.0  NaN 0 days 00:00:00.931000\n",
      "117          6 2024-04-23 14:27:56.342        2.0  NaN 0 days 00:00:00.539000\n",
      "119          6 2024-04-23 14:28:00.368        2.0  NaN 0 days 00:00:03.901000\n"
     ]
    }
   ],
   "source": [
    "#METRICA: TIEMPO MEDIO QUE SE MANTIENE UNA CARTA EN CUALQUIERA DE LOS LADOS\n",
    "\n",
    "cardsOnSide = data[(data['EventType'] == 6)]\n",
    "\n",
    "cardsOnSide = cardsOnSide.reset_index(drop=True)\n",
    "\n",
    "cardsOnSide['TimeDiff'] = cardsOnSide['TimeStamp'].diff()\n",
    "\n",
    "indices = cardsOnSide[(cardsOnSide['CardState'] == 1) | (cardsOnSide['CardState'] == 0)].index\n",
    "cardsOnSide = cardsOnSide.iloc[(indices + 1)[:-1]]\n",
    "\n",
    "media = cardsOnSide['TimeDiff'].mean()\n",
    "\n",
    "print('MEDIA DE TIEMPO QUE SE MANTIENE UNA CARTA A UN LADO: \\t', media)\n",
    "\n",
    "#indices = cardsOnSide[(cardsOnSide['EventType'] == 4)]['TimeDiff'].index\n",
    "#\n",
    "#cardsOnSide = cardsOnSide.drop((indices + 1)[:-1])\n",
    "#\n",
    "#media = cardsOnSide[(cardsOnSide['EventType'] == 6)]['TimeDiff'].mean()\n",
    "\n",
    "#print('MEDIA DE TIEMPO ENTRE RONDAS: \\t', media)"
   ]
  },
  {
   "cell_type": "code",
   "execution_count": null,
   "id": "e351321e",
   "metadata": {},
   "outputs": [],
   "source": []
  }
 ],
 "metadata": {
  "kernelspec": {
   "display_name": "Python 3 (ipykernel)",
   "language": "python",
   "name": "python3"
  },
  "language_info": {
   "codemirror_mode": {
    "name": "ipython",
    "version": 3
   },
   "file_extension": ".py",
   "mimetype": "text/x-python",
   "name": "python",
   "nbconvert_exporter": "python",
   "pygments_lexer": "ipython3",
   "version": "3.11.4"
  }
 },
 "nbformat": 4,
 "nbformat_minor": 5
}
