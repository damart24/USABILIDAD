{
 "cells": [
  {
   "cell_type": "code",
   "execution_count": 1,
   "id": "43d2b498",
   "metadata": {
    "scrolled": false
   },
   "outputs": [
    {
     "data": {
      "text/html": [
       "<div>\n",
       "<style scoped>\n",
       "    .dataframe tbody tr th:only-of-type {\n",
       "        vertical-align: middle;\n",
       "    }\n",
       "\n",
       "    .dataframe tbody tr th {\n",
       "        vertical-align: top;\n",
       "    }\n",
       "\n",
       "    .dataframe thead th {\n",
       "        text-align: right;\n",
       "    }\n",
       "</style>\n",
       "<table border=\"1\" class=\"dataframe\">\n",
       "  <thead>\n",
       "    <tr style=\"text-align: right;\">\n",
       "      <th></th>\n",
       "      <th>EventType</th>\n",
       "      <th>TimeStamp</th>\n",
       "      <th>CardState</th>\n",
       "      <th>Win</th>\n",
       "    </tr>\n",
       "  </thead>\n",
       "  <tbody>\n",
       "    <tr>\n",
       "      <th>0</th>\n",
       "      <td>1</td>\n",
       "      <td>2024-04-23 14:24:07.069</td>\n",
       "      <td>NaN</td>\n",
       "      <td>NaN</td>\n",
       "    </tr>\n",
       "    <tr>\n",
       "      <th>1</th>\n",
       "      <td>3</td>\n",
       "      <td>2024-04-23 14:24:39.255</td>\n",
       "      <td>NaN</td>\n",
       "      <td>NaN</td>\n",
       "    </tr>\n",
       "    <tr>\n",
       "      <th>2</th>\n",
       "      <td>6</td>\n",
       "      <td>2024-04-23 14:24:58.445</td>\n",
       "      <td>2.0</td>\n",
       "      <td>NaN</td>\n",
       "    </tr>\n",
       "    <tr>\n",
       "      <th>3</th>\n",
       "      <td>6</td>\n",
       "      <td>2024-04-23 14:24:58.533</td>\n",
       "      <td>1.0</td>\n",
       "      <td>NaN</td>\n",
       "    </tr>\n",
       "    <tr>\n",
       "      <th>4</th>\n",
       "      <td>5</td>\n",
       "      <td>2024-04-23 14:24:58.607</td>\n",
       "      <td>NaN</td>\n",
       "      <td>NaN</td>\n",
       "    </tr>\n",
       "    <tr>\n",
       "      <th>...</th>\n",
       "      <td>...</td>\n",
       "      <td>...</td>\n",
       "      <td>...</td>\n",
       "      <td>...</td>\n",
       "    </tr>\n",
       "    <tr>\n",
       "      <th>155</th>\n",
       "      <td>6</td>\n",
       "      <td>2024-04-23 14:28:01.701</td>\n",
       "      <td>3.0</td>\n",
       "      <td>NaN</td>\n",
       "    </tr>\n",
       "    <tr>\n",
       "      <th>156</th>\n",
       "      <td>6</td>\n",
       "      <td>2024-04-23 14:28:02.533</td>\n",
       "      <td>0.0</td>\n",
       "      <td>NaN</td>\n",
       "    </tr>\n",
       "    <tr>\n",
       "      <th>157</th>\n",
       "      <td>5</td>\n",
       "      <td>2024-04-23 14:28:08.034</td>\n",
       "      <td>NaN</td>\n",
       "      <td>NaN</td>\n",
       "    </tr>\n",
       "    <tr>\n",
       "      <th>158</th>\n",
       "      <td>4</td>\n",
       "      <td>2024-04-23 14:28:08.281</td>\n",
       "      <td>NaN</td>\n",
       "      <td>1.0</td>\n",
       "    </tr>\n",
       "    <tr>\n",
       "      <th>159</th>\n",
       "      <td>2</td>\n",
       "      <td>2024-04-23 14:28:14.603</td>\n",
       "      <td>NaN</td>\n",
       "      <td>NaN</td>\n",
       "    </tr>\n",
       "  </tbody>\n",
       "</table>\n",
       "<p>160 rows × 4 columns</p>\n",
       "</div>"
      ],
      "text/plain": [
       "     EventType               TimeStamp  CardState  Win\n",
       "0            1 2024-04-23 14:24:07.069        NaN  NaN\n",
       "1            3 2024-04-23 14:24:39.255        NaN  NaN\n",
       "2            6 2024-04-23 14:24:58.445        2.0  NaN\n",
       "3            6 2024-04-23 14:24:58.533        1.0  NaN\n",
       "4            5 2024-04-23 14:24:58.607        NaN  NaN\n",
       "..         ...                     ...        ...  ...\n",
       "155          6 2024-04-23 14:28:01.701        3.0  NaN\n",
       "156          6 2024-04-23 14:28:02.533        0.0  NaN\n",
       "157          5 2024-04-23 14:28:08.034        NaN  NaN\n",
       "158          4 2024-04-23 14:28:08.281        NaN  1.0\n",
       "159          2 2024-04-23 14:28:14.603        NaN  NaN\n",
       "\n",
       "[160 rows x 4 columns]"
      ]
     },
     "metadata": {},
     "output_type": "display_data"
    }
   ],
   "source": [
    "import numpy as np\n",
    "import matplotlib.pyplot as plt\n",
    "\n",
    "import pandas as pd\n",
    "\n",
    "EventTypes = ['noType', 'sessionStart', 'sessionEnd', 'gameStart', 'gameEnd', 'roundStart', 'cardStateChange']\n",
    "CardStates = ['left', 'right', 'center', 'dropped']\n",
    "\n",
    "data = pd.read_json('../Data/ArchivoGuardado', lines=True)\n",
    "display(data)"
   ]
  },
  {
   "cell_type": "code",
   "execution_count": 2,
   "id": "e9ee2da5",
   "metadata": {},
   "outputs": [
    {
     "name": "stdout",
     "output_type": "stream",
     "text": [
      "MEDIA DE TIEMPO ENTRE RONDAS: \t 0 days 00:00:05.959464285\n"
     ]
    }
   ],
   "source": [
    "#METRICA: TIEMPO MEDIO EN CADA PREGUNTA\n",
    "\n",
    "rounds = data[(data['EventType'] == 5) | (data['EventType'] == 4)]\n",
    "\n",
    "rounds = rounds.reset_index(drop=True)\n",
    "\n",
    "rounds['TimeDiff'] = rounds['TimeStamp'].diff()\n",
    "indices = rounds[(rounds['EventType'] == 4)]['TimeDiff'].index\n",
    "\n",
    "rounds = rounds.drop((indices + 1)[:-1])\n",
    "\n",
    "media = rounds[(rounds['EventType'] == 5)]['TimeDiff'].mean()\n",
    "\n",
    "print('MEDIA DE TIEMPO ENTRE RONDAS: \\t', media)"
   ]
  },
  {
   "cell_type": "code",
   "execution_count": 3,
   "id": "e151692a",
   "metadata": {},
   "outputs": [
    {
     "name": "stdout",
     "output_type": "stream",
     "text": [
      "MEDIA DE TIEMPO QUE SE MANTIENE UNA CARTA A UN LADO: \t 0 days 00:00:02.817254237\n"
     ]
    }
   ],
   "source": [
    "#METRICA: TIEMPO MEDIO QUE SE MANTIENE UNA CARTA EN CUALQUIERA DE LOS LADOS\n",
    "\n",
    "cardsOnSide = data[(data['EventType'] == 6)]\n",
    "\n",
    "cardsOnSide = cardsOnSide.reset_index(drop=True)\n",
    "\n",
    "cardsOnSide['TimeDiff'] = cardsOnSide['TimeStamp'].diff()\n",
    "\n",
    "indices = cardsOnSide[(cardsOnSide['CardState'] == 1) | (cardsOnSide['CardState'] == 0)].index\n",
    "cardsOnSide = cardsOnSide.iloc[(indices + 1)[:-1]]\n",
    "\n",
    "media = cardsOnSide['TimeDiff'].mean()\n",
    "\n",
    "print('MEDIA DE TIEMPO QUE SE MANTIENE UNA CARTA A UN LADO: \\t', media)"
   ]
  },
  {
   "cell_type": "code",
   "execution_count": 5,
   "id": "e351321e",
   "metadata": {},
   "outputs": [
    {
     "name": "stdout",
     "output_type": "stream",
     "text": [
      "MEDIA DE VECES QUE SE ALTERNA ENTRE LADOS POR RONDA:  1.0\n",
      "PORCENTAJE DE RONDAS EN LAS QUE SE ALTERNA DE LADOS:  93.33333333333333 %\n"
     ]
    }
   ],
   "source": [
    "#METRICAS: MEDIA DE VECES QUE SE ALTERNA A DERECHA E IZQUIERDA UNA CARTA \n",
    "#Y PORCENTAJE DE RONDAS EN LAS QUE SE ALTERNA DE DERECHA A IZQUIERDA\n",
    "\n",
    "cardsAlternated = data[(data['EventType'] == 5)| (data['EventType'] == 6)]\n",
    "\n",
    "n_rounds = 0\n",
    "rounds_alternated = 0\n",
    "n_alternated = 0\n",
    "left = False\n",
    "right = False\n",
    "alternated_this_round = False\n",
    "\n",
    "for i in range(len(cardsAlternated)):\n",
    "    current_event_type = cardsAlternated.iloc[i]['EventType']\n",
    "    \n",
    "    #evento de inicio de ronda\n",
    "    if current_event_type == 5:\n",
    "        n_rounds += 1\n",
    "        if alternated_this_round:\n",
    "            rounds_alternated += 1\n",
    "            \n",
    "        right = False\n",
    "        left = False\n",
    "    else:\n",
    "        current_card_state = cardsAlternated.iloc[i]['CardState']\n",
    "        \n",
    "        if current_card_state == 0:\n",
    "            left = True\n",
    "        elif current_card_state == 1:\n",
    "            right = True\n",
    "\n",
    "        if left and right:\n",
    "            alternated_this_round = True\n",
    "            n_alternated += 1\n",
    "            \n",
    "            if current_card_state == 0:\n",
    "                right = False\n",
    "            elif current_card_state == 1:\n",
    "                left = False\n",
    "            \n",
    "print('MEDIA DE VECES QUE SE ALTERNA ENTRE LADOS POR RONDA: ', n_alternated/n_rounds)\n",
    "print('PORCENTAJE DE RONDAS EN LAS QUE SE ALTERNA DE LADOS: ', rounds_alternated/n_rounds * 100, '%')"
   ]
  },
  {
   "cell_type": "code",
   "execution_count": null,
   "id": "1ea69c3c",
   "metadata": {},
   "outputs": [],
   "source": []
  }
 ],
 "metadata": {
  "kernelspec": {
   "display_name": "Python 3 (ipykernel)",
   "language": "python",
   "name": "python3"
  },
  "language_info": {
   "codemirror_mode": {
    "name": "ipython",
    "version": 3
   },
   "file_extension": ".py",
   "mimetype": "text/x-python",
   "name": "python",
   "nbconvert_exporter": "python",
   "pygments_lexer": "ipython3",
   "version": "3.11.4"
  }
 },
 "nbformat": 4,
 "nbformat_minor": 5
}
